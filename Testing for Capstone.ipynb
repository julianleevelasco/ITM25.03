{
 "cells": [
  {
   "cell_type": "code",
   "execution_count": 52,
   "id": "acc2699c-0d10-4398-9a3f-889cbb882a90",
   "metadata": {},
   "outputs": [
    {
     "name": "stdout",
     "output_type": "stream",
     "text": [
      "['AED', 'AFN', 'ALL', 'AMD', 'ANG', 'AOA', 'ARS', 'AUD', 'AWG', 'AZN', 'BAM', 'BBD', 'BDT', 'BGN', 'BHD', 'BIF', 'BMD', 'BND', 'BOB', 'BRL', 'BSD', 'BTC', 'BTN', 'BWP', 'BYN', 'BZD', 'CAD', 'CDF', 'CHF', 'CLF', 'CLP', 'CNH', 'CNY', 'COP', 'CRC', 'CUC', 'CUP', 'CVE', 'CZK', 'DJF', 'DKK', 'DOP', 'DZD', 'EGP', 'ERN', 'ETB', 'EUR', 'FJD', 'FKP', 'GBP', 'GEL', 'GGP', 'GHS', 'GIP', 'GMD', 'GNF', 'GTQ', 'GYD', 'HKD', 'HNL', 'HRK', 'HTG', 'HUF', 'IDR', 'ILS', 'IMP', 'INR', 'IQD', 'IRR', 'ISK', 'JEP', 'JMD', 'JOD', 'JPY', 'KES', 'KGS', 'KHR', 'KMF', 'KPW', 'KRW', 'KWD', 'KYD', 'KZT', 'LAK', 'LBP', 'LKR', 'LRD', 'LSL', 'LYD', 'MAD', 'MDL', 'MGA', 'MKD', 'MMK', 'MNT', 'MOP', 'MRU', 'MUR', 'MVR', 'MWK', 'MXN', 'MYR', 'MZN', 'NAD', 'NGN', 'NIO', 'NOK', 'NPR', 'NZD', 'OMR', 'PAB', 'PEN', 'PGK', 'PHP', 'PKR', 'PLN', 'PYG', 'QAR', 'RON', 'RSD', 'RUB', 'RWF', 'SAR', 'SBD', 'SCR', 'SDG', 'SEK', 'SGD', 'SHP', 'SLL', 'SOS', 'SRD', 'SSP', 'STD', 'STN', 'SVC', 'SYP', 'SZL', 'THB', 'TJS', 'TMT', 'TND', 'TOP', 'TRY', 'TTD', 'TWD', 'TZS', 'UAH', 'UGX', 'USD', 'UYU', 'UZS', 'VES', 'VND', 'VUV', 'WST', 'XAF', 'XAG', 'XAU', 'XCD', 'XDR', 'XOF', 'XPD', 'XPF', 'XPT', 'YER', 'ZAR', 'ZMW', 'ZWL']\n"
     ]
    }
   ],
   "source": [
    "import requests\n",
    "\n",
    "url = 'https://api.exchangerate.host/latest'\n",
    "response = requests.get(url)\n",
    "dict = response.json()\n",
    "rates = dict['rates']\n",
    "keys = list(rates.keys())\n",
    "\n",
    "print(keys)"
   ]
  },
  {
   "cell_type": "code",
   "execution_count": 78,
   "id": "ccbe30f2-fe09-43fc-8e11-68e7745b032e",
   "metadata": {},
   "outputs": [
    {
     "name": "stdin",
     "output_type": "stream",
     "text": [
      "Enter your name: Lebron James\n",
      "Enter the amount you want to convert: 600\n",
      "Enter the currency you want to convert to (Please input just the currency code): HNL\n"
     ]
    },
    {
     "data": {
      "text/plain": [
       "'The current rate of USD to HNL is 24.5. USD 600.0 is HNL 14700.0 . Thank you!'"
      ]
     },
     "execution_count": 78,
     "metadata": {},
     "output_type": "execute_result"
    }
   ],
   "source": [
    "#This happens behind-the-scenes\n",
    "\n",
    "name = input('Enter your name:')\n",
    "money = input('Enter the amount you want to convert:')\n",
    "convert_to = input('Enter the currency you want to convert to (Please input just the currency code):')\n",
    "\n",
    "def message_change():\n",
    "    initial_money = round(float(money),2)\n",
    "    first_curr = 'USD'\n",
    "    second_curr = convert_to\n",
    "    if first_curr in keys and second_curr in keys:\n",
    "        eur = rates[first_curr]\n",
    "        convert = round(rates[second_curr]/eur,2)\n",
    "        converted_money = initial_money * convert\n",
    "        response = (f'The current rate of {first_curr} to {second_curr} is {convert}. {first_curr} {initial_money} is {second_curr} {round(converted_money,2)} . Thank you!')\n",
    "        return response\n",
    "    else:\n",
    "        response = (f\"I'm sorry {name}, we may not have the currency you are trying to convert.\")\n",
    "        return response\n",
    "\n",
    "message_change()"
   ]
  },
  {
   "cell_type": "code",
   "execution_count": 76,
   "id": "4d7c916a-e8bf-4c0b-ba8b-d96b5817d500",
   "metadata": {},
   "outputs": [
    {
     "name": "stdout",
     "output_type": "stream",
     "text": [
      "BTCUSDT\n",
      "['BTCUSDT', 'DOGEUSDT']\n",
      "['BTC', 'DOGE']\n",
      "0\n"
     ]
    }
   ],
   "source": [
    "currencies = {'BTC':'BTCUSDT','DOGE':'DOGEUSDT'}\n",
    "print(currencies['BTC'])\n",
    "print(list(currencies.values()))\n",
    "print(list(currencies.keys()))\n",
    "print(list(currencies.keys()).index('BTC'))"
   ]
  },
  {
   "cell_type": "code",
   "execution_count": null,
   "id": "80455532-0cca-4a7d-aae3-a867b201d250",
   "metadata": {},
   "outputs": [],
   "source": []
  }
 ],
 "metadata": {
  "kernelspec": {
   "display_name": "Python 3 (ipykernel)",
   "language": "python",
   "name": "python3"
  },
  "language_info": {
   "codemirror_mode": {
    "name": "ipython",
    "version": 3
   },
   "file_extension": ".py",
   "mimetype": "text/x-python",
   "name": "python",
   "nbconvert_exporter": "python",
   "pygments_lexer": "ipython3",
   "version": "3.9.12"
  }
 },
 "nbformat": 4,
 "nbformat_minor": 5
}
